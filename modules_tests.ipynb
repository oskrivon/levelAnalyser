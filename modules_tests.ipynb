{
 "cells": [
  {
   "cell_type": "code",
   "execution_count": 1,
   "metadata": {},
   "outputs": [
    {
     "name": "stdout",
     "output_type": "stream",
     "text": [
      "2022 8 4\n",
      "<class 'urllib.error.HTTPError'>\n",
      "<class 'urllib.error.HTTPError'>\n",
      "<class 'urllib.error.HTTPError'>\n",
      "<class 'urllib.error.HTTPError'>\n",
      "<class 'urllib.error.HTTPError'>\n",
      "<class 'urllib.error.HTTPError'>\n",
      "<class 'urllib.error.HTTPError'>\n",
      "<class 'urllib.error.HTTPError'>\n",
      "<class 'urllib.error.HTTPError'>\n",
      "<class 'urllib.error.HTTPError'>\n",
      "<class 'urllib.error.HTTPError'>\n",
      "<class 'urllib.error.HTTPError'>\n",
      "<class 'urllib.error.HTTPError'>\n",
      "<class 'urllib.error.HTTPError'>\n",
      "<class 'urllib.error.HTTPError'>\n",
      "<class 'urllib.error.HTTPError'>\n",
      "<class 'urllib.error.HTTPError'>\n",
      "<class 'urllib.error.HTTPError'>\n",
      "<class 'urllib.error.HTTPError'>\n",
      "<class 'urllib.error.HTTPError'>\n",
      "<class 'urllib.error.HTTPError'>\n"
     ]
    }
   ],
   "source": [
    "import get_market_history as mh\n",
    "\n",
    "mh.get_market_history()"
   ]
  },
  {
   "cell_type": "code",
   "execution_count": 1,
   "metadata": {},
   "outputs": [
    {
     "ename": "KeyboardInterrupt",
     "evalue": "",
     "output_type": "error",
     "traceback": [
      "\u001b[1;31m---------------------------------------------------------------------------\u001b[0m",
      "\u001b[1;31mKeyboardInterrupt\u001b[0m                         Traceback (most recent call last)",
      "\u001b[1;32mc:\\Users\\daria\\OneDrive\\Рабочий стол\\py_stocks\\levelAnalyser\\modules_tests.ipynb Ячейка 2\u001b[0m in \u001b[0;36m<cell line: 9>\u001b[1;34m()\u001b[0m\n\u001b[0;32m     <a href='vscode-notebook-cell:/c%3A/Users/daria/OneDrive/%D0%A0%D0%B0%D0%B1%D0%BE%D1%87%D0%B8%D0%B9%20%D1%81%D1%82%D0%BE%D0%BB/py_stocks/levelAnalyser/modules_tests.ipynb#ch0000001?line=11'>12</a>\u001b[0m correlation \u001b[39m=\u001b[39m corr\u001b[39m.\u001b[39mcorellation_quotation(q)\n\u001b[0;32m     <a href='vscode-notebook-cell:/c%3A/Users/daria/OneDrive/%D0%A0%D0%B0%D0%B1%D0%BE%D1%87%D0%B8%D0%B9%20%D1%81%D1%82%D0%BE%D0%BB/py_stocks/levelAnalyser/modules_tests.ipynb#ch0000001?line=13'>14</a>\u001b[0m \u001b[39mif\u001b[39;00m (correlation \u001b[39m<\u001b[39m \u001b[39m0.8\u001b[39m) \u001b[39mor\u001b[39;00m (correlation \u001b[39m==\u001b[39m \u001b[39m1\u001b[39m):\n\u001b[0;32m     <a href='vscode-notebook-cell:/c%3A/Users/daria/OneDrive/%D0%A0%D0%B0%D0%B1%D0%BE%D1%87%D0%B8%D0%B9%20%D1%81%D1%82%D0%BE%D0%BB/py_stocks/levelAnalyser/modules_tests.ipynb#ch0000001?line=14'>15</a>\u001b[0m     \u001b[39m#print(q)\u001b[39;00m\n\u001b[1;32m---> <a href='vscode-notebook-cell:/c%3A/Users/daria/OneDrive/%D0%A0%D0%B0%D0%B1%D0%BE%D1%87%D0%B8%D0%B9%20%D1%81%D1%82%D0%BE%D0%BB/py_stocks/levelAnalyser/modules_tests.ipynb#ch0000001?line=15'>16</a>\u001b[0m     ld\u001b[39m.\u001b[39;49mresistance_search_downhill_and_DBSCAN(q, \u001b[39m0.1\u001b[39;49m, \u001b[39m100\u001b[39;49m, \u001b[39m1\u001b[39;49m, \u001b[39m2\u001b[39;49m, \u001b[39mFalse\u001b[39;49;00m)\n",
      "File \u001b[1;32mc:\\Users\\daria\\OneDrive\\Рабочий стол\\py_stocks\\levelAnalyser\\level_detector.py:343\u001b[0m, in \u001b[0;36mresistance_search_downhill_and_DBSCAN\u001b[1;34m(quotation, th, savgol_filter_param, poly, min_samples, volume_flag)\u001b[0m\n\u001b[0;32m    338\u001b[0m resistance_levels_db, support_levels_db, cluster_numbers \u001b[39m=\u001b[39m DBSCAN_clusters(resistance_levels, support_levels, eps, min_samples)\n\u001b[0;32m    340\u001b[0m \u001b[39m#fig = plot_create(t, p, p_smooth, quotation, resistance_levels_db, support_levels_db, cluster_numbers, eps, diff_percent)\u001b[39;00m\n\u001b[0;32m    341\u001b[0m \u001b[39m#fig.savefig('images/' + quotation + '.png')\u001b[39;00m\n\u001b[1;32m--> 343\u001b[0m mpf_plot(minutly_price, quotation, resistance_levels_db, support_levels_db,\n\u001b[0;32m    344\u001b[0m          cluster_numbers, th, diff_percent, eps, volume_flag)\n\u001b[0;32m    346\u001b[0m \u001b[39mreturn\u001b[39;00m resistance_levels, support_levels\n",
      "File \u001b[1;32mc:\\Users\\daria\\OneDrive\\Рабочий стол\\py_stocks\\levelAnalyser\\level_detector.py:149\u001b[0m, in \u001b[0;36mmpf_plot\u001b[1;34m(df, quotation, resistance, support, cluster_numbers, threshold, diff_percent, eps, volume_flag)\u001b[0m\n\u001b[0;32m    143\u001b[0m tittle_config \u001b[39m=\u001b[39m \u001b[39mdict\u001b[39m(title \u001b[39m=\u001b[39m tx, y \u001b[39m=\u001b[39m \u001b[39m1\u001b[39m, x \u001b[39m=\u001b[39m \u001b[39m0.11\u001b[39m,\n\u001b[0;32m    144\u001b[0m                      fontsize \u001b[39m=\u001b[39m \u001b[39m10\u001b[39m, fontweight \u001b[39m=\u001b[39m \u001b[39m10\u001b[39m,\n\u001b[0;32m    145\u001b[0m                      ha \u001b[39m=\u001b[39m \u001b[39m'\u001b[39m\u001b[39mleft\u001b[39m\u001b[39m'\u001b[39m)\n\u001b[0;32m    146\u001b[0m save_config \u001b[39m=\u001b[39m \u001b[39mdict\u001b[39m(fname \u001b[39m=\u001b[39m \u001b[39m'\u001b[39m\u001b[39mimages/\u001b[39m\u001b[39m'\u001b[39m \u001b[39m+\u001b[39m quotation \u001b[39m+\u001b[39m \u001b[39m'\u001b[39m\u001b[39m.png\u001b[39m\u001b[39m'\u001b[39m,\n\u001b[0;32m    147\u001b[0m                    transparent \u001b[39m=\u001b[39m \u001b[39mFalse\u001b[39;00m)\n\u001b[1;32m--> 149\u001b[0m mpf\u001b[39m.\u001b[39;49mplot(df, \u001b[39mtype\u001b[39;49m\u001b[39m=\u001b[39;49m\u001b[39m'\u001b[39;49m\u001b[39mline\u001b[39;49m\u001b[39m'\u001b[39;49m, volume\u001b[39m=\u001b[39;49mvolume_flag, style\u001b[39m=\u001b[39;49m\u001b[39m'\u001b[39;49m\u001b[39myahoo\u001b[39;49m\u001b[39m'\u001b[39;49m,\n\u001b[0;32m    150\u001b[0m          figratio\u001b[39m=\u001b[39;49m(\u001b[39m16\u001b[39;49m,\u001b[39m8\u001b[39;49m), xrotation\u001b[39m=\u001b[39;49m\u001b[39m0\u001b[39;49m, figscale\u001b[39m=\u001b[39;49m\u001b[39m1\u001b[39;49m,\n\u001b[0;32m    151\u001b[0m          hlines\u001b[39m=\u001b[39;49mhlines_config,\n\u001b[0;32m    152\u001b[0m          title\u001b[39m=\u001b[39;49mtittle_config,\n\u001b[0;32m    153\u001b[0m          savefig\u001b[39m=\u001b[39;49msave_config,\n\u001b[0;32m    154\u001b[0m          tight_layout\u001b[39m=\u001b[39;49m\u001b[39mTrue\u001b[39;49;00m\n\u001b[0;32m    155\u001b[0m         )\n",
      "File \u001b[1;32mc:\\Users\\daria\\AppData\\Local\\Programs\\Python\\Python310\\lib\\site-packages\\mplfinance\\plotting.py:472\u001b[0m, in \u001b[0;36mplot\u001b[1;34m(data, **kwargs)\u001b[0m\n\u001b[0;32m    470\u001b[0m         volumeAxes\u001b[39m.\u001b[39mset_axisbelow(config[\u001b[39m'\u001b[39m\u001b[39msaxbelow\u001b[39m\u001b[39m'\u001b[39m])\n\u001b[0;32m    471\u001b[0m \u001b[39melse\u001b[39;00m:\n\u001b[1;32m--> 472\u001b[0m     panels \u001b[39m=\u001b[39m _build_panels(fig, config)\n\u001b[0;32m    473\u001b[0m     axA1 \u001b[39m=\u001b[39m panels\u001b[39m.\u001b[39mat[config[\u001b[39m'\u001b[39m\u001b[39mmain_panel\u001b[39m\u001b[39m'\u001b[39m],\u001b[39m'\u001b[39m\u001b[39maxes\u001b[39m\u001b[39m'\u001b[39m][\u001b[39m0\u001b[39m]\n\u001b[0;32m    474\u001b[0m     \u001b[39mif\u001b[39;00m config[\u001b[39m'\u001b[39m\u001b[39mvolume\u001b[39m\u001b[39m'\u001b[39m]:\n",
      "File \u001b[1;32mc:\\Users\\daria\\AppData\\Local\\Programs\\Python\\Python310\\lib\\site-packages\\mplfinance\\_panels.py:207\u001b[0m, in \u001b[0;36m_build_panels\u001b[1;34m(figure, config)\u001b[0m\n\u001b[0;32m    204\u001b[0m panels\u001b[39m.\u001b[39mat[panid,\u001b[39m'\u001b[39m\u001b[39mlift\u001b[39m\u001b[39m'\u001b[39m] \u001b[39m=\u001b[39m lift\n\u001b[0;32m    205\u001b[0m \u001b[39mif\u001b[39;00m panid \u001b[39m==\u001b[39m \u001b[39m0\u001b[39m:\n\u001b[0;32m    206\u001b[0m     \u001b[39m# rect = [left, bottom, width, height] \u001b[39;00m\n\u001b[1;32m--> 207\u001b[0m     ax0 \u001b[39m=\u001b[39m figure\u001b[39m.\u001b[39;49madd_axes( [left_pad, bot_pad\u001b[39m+\u001b[39;49mlift, plot_width, height] )\n\u001b[0;32m    208\u001b[0m \u001b[39melse\u001b[39;00m:\n\u001b[0;32m    209\u001b[0m     ax0 \u001b[39m=\u001b[39m figure\u001b[39m.\u001b[39madd_axes( [left_pad, bot_pad\u001b[39m+\u001b[39mlift, plot_width, height], sharex\u001b[39m=\u001b[39mpanels\u001b[39m.\u001b[39mat[\u001b[39m0\u001b[39m,\u001b[39m'\u001b[39m\u001b[39maxes\u001b[39m\u001b[39m'\u001b[39m][\u001b[39m0\u001b[39m] )\n",
      "File \u001b[1;32mc:\\Users\\daria\\AppData\\Local\\Programs\\Python\\Python310\\lib\\site-packages\\matplotlib\\figure.py:642\u001b[0m, in \u001b[0;36mFigureBase.add_axes\u001b[1;34m(self, *args, **kwargs)\u001b[0m\n\u001b[0;32m    638\u001b[0m     projection_class, pkw \u001b[39m=\u001b[39m \u001b[39mself\u001b[39m\u001b[39m.\u001b[39m_process_projection_requirements(\n\u001b[0;32m    639\u001b[0m         \u001b[39m*\u001b[39margs, \u001b[39m*\u001b[39m\u001b[39m*\u001b[39mkwargs)\n\u001b[0;32m    641\u001b[0m     \u001b[39m# create the new axes using the axes class given\u001b[39;00m\n\u001b[1;32m--> 642\u001b[0m     a \u001b[39m=\u001b[39m projection_class(\u001b[39mself\u001b[39m, rect, \u001b[39m*\u001b[39m\u001b[39m*\u001b[39mpkw)\n\u001b[0;32m    643\u001b[0m     key \u001b[39m=\u001b[39m (projection_class, pkw)\n\u001b[0;32m    644\u001b[0m \u001b[39mreturn\u001b[39;00m \u001b[39mself\u001b[39m\u001b[39m.\u001b[39m_add_axes_internal(a, key)\n",
      "File \u001b[1;32mc:\\Users\\daria\\AppData\\Local\\Programs\\Python\\Python310\\lib\\site-packages\\matplotlib\\_api\\deprecation.py:459\u001b[0m, in \u001b[0;36mmake_keyword_only.<locals>.wrapper\u001b[1;34m(*args, **kwargs)\u001b[0m\n\u001b[0;32m    453\u001b[0m \u001b[39mif\u001b[39;00m \u001b[39mlen\u001b[39m(args) \u001b[39m>\u001b[39m name_idx:\n\u001b[0;32m    454\u001b[0m     warn_deprecated(\n\u001b[0;32m    455\u001b[0m         since, message\u001b[39m=\u001b[39m\u001b[39m\"\u001b[39m\u001b[39mPassing the \u001b[39m\u001b[39m%(name)s\u001b[39;00m\u001b[39m \u001b[39m\u001b[39m%(obj_type)s\u001b[39;00m\u001b[39m \u001b[39m\u001b[39m\"\u001b[39m\n\u001b[0;32m    456\u001b[0m         \u001b[39m\"\u001b[39m\u001b[39mpositionally is deprecated since Matplotlib \u001b[39m\u001b[39m%(since)s\u001b[39;00m\u001b[39m; the \u001b[39m\u001b[39m\"\u001b[39m\n\u001b[0;32m    457\u001b[0m         \u001b[39m\"\u001b[39m\u001b[39mparameter will become keyword-only \u001b[39m\u001b[39m%(removal)s\u001b[39;00m\u001b[39m.\u001b[39m\u001b[39m\"\u001b[39m,\n\u001b[0;32m    458\u001b[0m         name\u001b[39m=\u001b[39mname, obj_type\u001b[39m=\u001b[39m\u001b[39mf\u001b[39m\u001b[39m\"\u001b[39m\u001b[39mparameter of \u001b[39m\u001b[39m{\u001b[39;00mfunc\u001b[39m.\u001b[39m\u001b[39m__name__\u001b[39m\u001b[39m}\u001b[39;00m\u001b[39m()\u001b[39m\u001b[39m\"\u001b[39m)\n\u001b[1;32m--> 459\u001b[0m \u001b[39mreturn\u001b[39;00m func(\u001b[39m*\u001b[39margs, \u001b[39m*\u001b[39m\u001b[39m*\u001b[39mkwargs)\n",
      "File \u001b[1;32mc:\\Users\\daria\\AppData\\Local\\Programs\\Python\\Python310\\lib\\site-packages\\matplotlib\\axes\\_base.py:624\u001b[0m, in \u001b[0;36m_AxesBase.__init__\u001b[1;34m(self, fig, rect, facecolor, frameon, sharex, sharey, label, xscale, yscale, box_aspect, **kwargs)\u001b[0m\n\u001b[0;32m    621\u001b[0m \u001b[39mself\u001b[39m\u001b[39m.\u001b[39mspines \u001b[39m=\u001b[39m mspines\u001b[39m.\u001b[39mSpines\u001b[39m.\u001b[39mfrom_dict(\u001b[39mself\u001b[39m\u001b[39m.\u001b[39m_gen_axes_spines())\n\u001b[0;32m    623\u001b[0m \u001b[39m# this call may differ for non-sep axes, e.g., polar\u001b[39;00m\n\u001b[1;32m--> 624\u001b[0m \u001b[39mself\u001b[39;49m\u001b[39m.\u001b[39;49m_init_axis()\n\u001b[0;32m    625\u001b[0m \u001b[39mif\u001b[39;00m facecolor \u001b[39mis\u001b[39;00m \u001b[39mNone\u001b[39;00m:\n\u001b[0;32m    626\u001b[0m     facecolor \u001b[39m=\u001b[39m mpl\u001b[39m.\u001b[39mrcParams[\u001b[39m'\u001b[39m\u001b[39maxes.facecolor\u001b[39m\u001b[39m'\u001b[39m]\n",
      "File \u001b[1;32mc:\\Users\\daria\\AppData\\Local\\Programs\\Python\\Python310\\lib\\site-packages\\matplotlib\\axes\\_base.py:750\u001b[0m, in \u001b[0;36m_AxesBase._init_axis\u001b[1;34m(self)\u001b[0m\n\u001b[0;32m    748\u001b[0m \u001b[39mself\u001b[39m\u001b[39m.\u001b[39mspines\u001b[39m.\u001b[39mleft\u001b[39m.\u001b[39mregister_axis(\u001b[39mself\u001b[39m\u001b[39m.\u001b[39myaxis)\n\u001b[0;32m    749\u001b[0m \u001b[39mself\u001b[39m\u001b[39m.\u001b[39mspines\u001b[39m.\u001b[39mright\u001b[39m.\u001b[39mregister_axis(\u001b[39mself\u001b[39m\u001b[39m.\u001b[39myaxis)\n\u001b[1;32m--> 750\u001b[0m \u001b[39mself\u001b[39;49m\u001b[39m.\u001b[39;49m_update_transScale()\n",
      "File \u001b[1;32mc:\\Users\\daria\\AppData\\Local\\Programs\\Python\\Python310\\lib\\site-packages\\matplotlib\\axes\\_base.py:993\u001b[0m, in \u001b[0;36m_AxesBase._update_transScale\u001b[1;34m(self)\u001b[0m\n\u001b[0;32m    992\u001b[0m \u001b[39mdef\u001b[39;00m \u001b[39m_update_transScale\u001b[39m(\u001b[39mself\u001b[39m):\n\u001b[1;32m--> 993\u001b[0m     \u001b[39mself\u001b[39;49m\u001b[39m.\u001b[39;49mtransScale\u001b[39m.\u001b[39;49mset(\n\u001b[0;32m    994\u001b[0m         mtransforms\u001b[39m.\u001b[39;49mblended_transform_factory(\n\u001b[0;32m    995\u001b[0m             \u001b[39mself\u001b[39;49m\u001b[39m.\u001b[39;49mxaxis\u001b[39m.\u001b[39;49mget_transform(), \u001b[39mself\u001b[39;49m\u001b[39m.\u001b[39;49myaxis\u001b[39m.\u001b[39;49mget_transform()))\n\u001b[0;32m    996\u001b[0m     \u001b[39mfor\u001b[39;00m line \u001b[39min\u001b[39;00m \u001b[39mgetattr\u001b[39m(\u001b[39mself\u001b[39m, \u001b[39m\"\u001b[39m\u001b[39m_children\u001b[39m\u001b[39m\"\u001b[39m, []):  \u001b[39m# Not set during init.\u001b[39;00m\n\u001b[0;32m    997\u001b[0m         \u001b[39mif\u001b[39;00m \u001b[39mnot\u001b[39;00m \u001b[39misinstance\u001b[39m(line, mlines\u001b[39m.\u001b[39mLine2D):\n",
      "File \u001b[1;32mc:\\Users\\daria\\AppData\\Local\\Programs\\Python\\Python310\\lib\\site-packages\\matplotlib\\transforms.py:1769\u001b[0m, in \u001b[0;36mTransformWrapper.set\u001b[1;34m(self, child)\u001b[0m\n\u001b[0;32m   1766\u001b[0m \u001b[39mself\u001b[39m\u001b[39m.\u001b[39m_set(child)\n\u001b[0;32m   1768\u001b[0m \u001b[39mself\u001b[39m\u001b[39m.\u001b[39m_invalid \u001b[39m=\u001b[39m \u001b[39m0\u001b[39m\n\u001b[1;32m-> 1769\u001b[0m \u001b[39mself\u001b[39;49m\u001b[39m.\u001b[39;49minvalidate()\n\u001b[0;32m   1770\u001b[0m \u001b[39mself\u001b[39m\u001b[39m.\u001b[39m_invalid \u001b[39m=\u001b[39m \u001b[39m0\u001b[39m\n",
      "File \u001b[1;32mc:\\Users\\daria\\AppData\\Local\\Programs\\Python\\Python310\\lib\\site-packages\\matplotlib\\transforms.py:178\u001b[0m, in \u001b[0;36mTransformNode.invalidate\u001b[1;34m(self)\u001b[0m\n\u001b[0;32m    176\u001b[0m \u001b[39mif\u001b[39;00m \u001b[39mself\u001b[39m\u001b[39m.\u001b[39mis_affine:\n\u001b[0;32m    177\u001b[0m     value \u001b[39m=\u001b[39m \u001b[39mself\u001b[39m\u001b[39m.\u001b[39mINVALID_AFFINE\n\u001b[1;32m--> 178\u001b[0m \u001b[39mreturn\u001b[39;00m \u001b[39mself\u001b[39;49m\u001b[39m.\u001b[39;49m_invalidate_internal(value, invalidating_node\u001b[39m=\u001b[39;49m\u001b[39mself\u001b[39;49m)\n",
      "File \u001b[1;32mc:\\Users\\daria\\AppData\\Local\\Programs\\Python\\Python310\\lib\\site-packages\\matplotlib\\transforms.py:204\u001b[0m, in \u001b[0;36mTransformNode._invalidate_internal\u001b[1;34m(self, value, invalidating_node)\u001b[0m\n\u001b[0;32m    202\u001b[0m parent \u001b[39m=\u001b[39m parent()\n\u001b[0;32m    203\u001b[0m \u001b[39mif\u001b[39;00m parent \u001b[39mis\u001b[39;00m \u001b[39mnot\u001b[39;00m \u001b[39mNone\u001b[39;00m:\n\u001b[1;32m--> 204\u001b[0m     parent\u001b[39m.\u001b[39;49m_invalidate_internal(\n\u001b[0;32m    205\u001b[0m         value\u001b[39m=\u001b[39;49mvalue, invalidating_node\u001b[39m=\u001b[39;49m\u001b[39mself\u001b[39;49m)\n",
      "File \u001b[1;32mc:\\Users\\daria\\AppData\\Local\\Programs\\Python\\Python310\\lib\\site-packages\\matplotlib\\transforms.py:204\u001b[0m, in \u001b[0;36mTransformNode._invalidate_internal\u001b[1;34m(self, value, invalidating_node)\u001b[0m\n\u001b[0;32m    202\u001b[0m parent \u001b[39m=\u001b[39m parent()\n\u001b[0;32m    203\u001b[0m \u001b[39mif\u001b[39;00m parent \u001b[39mis\u001b[39;00m \u001b[39mnot\u001b[39;00m \u001b[39mNone\u001b[39;00m:\n\u001b[1;32m--> 204\u001b[0m     parent\u001b[39m.\u001b[39;49m_invalidate_internal(\n\u001b[0;32m    205\u001b[0m         value\u001b[39m=\u001b[39;49mvalue, invalidating_node\u001b[39m=\u001b[39;49m\u001b[39mself\u001b[39;49m)\n",
      "File \u001b[1;32mc:\\Users\\daria\\AppData\\Local\\Programs\\Python\\Python310\\lib\\site-packages\\matplotlib\\transforms.py:204\u001b[0m, in \u001b[0;36mTransformNode._invalidate_internal\u001b[1;34m(self, value, invalidating_node)\u001b[0m\n\u001b[0;32m    202\u001b[0m parent \u001b[39m=\u001b[39m parent()\n\u001b[0;32m    203\u001b[0m \u001b[39mif\u001b[39;00m parent \u001b[39mis\u001b[39;00m \u001b[39mnot\u001b[39;00m \u001b[39mNone\u001b[39;00m:\n\u001b[1;32m--> 204\u001b[0m     parent\u001b[39m.\u001b[39;49m_invalidate_internal(\n\u001b[0;32m    205\u001b[0m         value\u001b[39m=\u001b[39;49mvalue, invalidating_node\u001b[39m=\u001b[39;49m\u001b[39mself\u001b[39;49m)\n",
      "File \u001b[1;32mc:\\Users\\daria\\AppData\\Local\\Programs\\Python\\Python310\\lib\\site-packages\\matplotlib\\transforms.py:2392\u001b[0m, in \u001b[0;36mCompositeGenericTransform._invalidate_internal\u001b[1;34m(self, value, invalidating_node)\u001b[0m\n\u001b[0;32m   2387\u001b[0m \u001b[39mif\u001b[39;00m (value \u001b[39m==\u001b[39m Transform\u001b[39m.\u001b[39mINVALID_AFFINE \u001b[39mand\u001b[39;00m\n\u001b[0;32m   2388\u001b[0m         \u001b[39mnot\u001b[39;00m \u001b[39mself\u001b[39m\u001b[39m.\u001b[39m_b\u001b[39m.\u001b[39mis_affine \u001b[39mand\u001b[39;00m\n\u001b[0;32m   2389\u001b[0m         (\u001b[39mnot\u001b[39;00m \u001b[39mself\u001b[39m\u001b[39m.\u001b[39m_a\u001b[39m.\u001b[39mis_affine \u001b[39mor\u001b[39;00m invalidating_node \u001b[39mis\u001b[39;00m \u001b[39mself\u001b[39m\u001b[39m.\u001b[39m_a)):\n\u001b[0;32m   2390\u001b[0m     value \u001b[39m=\u001b[39m Transform\u001b[39m.\u001b[39mINVALID\n\u001b[1;32m-> 2392\u001b[0m \u001b[39msuper\u001b[39;49m()\u001b[39m.\u001b[39;49m_invalidate_internal(value\u001b[39m=\u001b[39;49mvalue,\n\u001b[0;32m   2393\u001b[0m                              invalidating_node\u001b[39m=\u001b[39;49minvalidating_node)\n",
      "File \u001b[1;32mc:\\Users\\daria\\AppData\\Local\\Programs\\Python\\Python310\\lib\\site-packages\\matplotlib\\transforms.py:202\u001b[0m, in \u001b[0;36mTransformNode._invalidate_internal\u001b[1;34m(self, value, invalidating_node)\u001b[0m\n\u001b[0;32m    198\u001b[0m \u001b[39mself\u001b[39m\u001b[39m.\u001b[39m_invalid \u001b[39m=\u001b[39m value\n\u001b[0;32m    200\u001b[0m \u001b[39mfor\u001b[39;00m parent \u001b[39min\u001b[39;00m \u001b[39mlist\u001b[39m(\u001b[39mself\u001b[39m\u001b[39m.\u001b[39m_parents\u001b[39m.\u001b[39mvalues()):\n\u001b[0;32m    201\u001b[0m     \u001b[39m# Dereference the weak reference\u001b[39;00m\n\u001b[1;32m--> 202\u001b[0m     parent \u001b[39m=\u001b[39m parent()\n\u001b[0;32m    203\u001b[0m     \u001b[39mif\u001b[39;00m parent \u001b[39mis\u001b[39;00m \u001b[39mnot\u001b[39;00m \u001b[39mNone\u001b[39;00m:\n\u001b[0;32m    204\u001b[0m         parent\u001b[39m.\u001b[39m_invalidate_internal(\n\u001b[0;32m    205\u001b[0m             value\u001b[39m=\u001b[39mvalue, invalidating_node\u001b[39m=\u001b[39m\u001b[39mself\u001b[39m)\n",
      "\u001b[1;31mKeyboardInterrupt\u001b[0m: "
     ]
    },
    {
     "data": {
      "text/plain": [
       "<Figure size 1150x575 with 0 Axes>"
      ]
     },
     "metadata": {},
     "output_type": "display_data"
    }
   ],
   "source": [
    "import matplotlib.pyplot as plt\n",
    "import level_detector as ld\n",
    "import btc_correlation as corr\n",
    "import os\n",
    "\n",
    "dirname = 'market_history/'\n",
    "files = os.listdir(dirname)\n",
    "\n",
    "for s in files:\n",
    "    q = s.split('.')[0]\n",
    "\n",
    "    correlation = corr.corellation_quotation(q)\n",
    "\n",
    "    if (correlation < 0.8) or (correlation == 1):\n",
    "        #print(q)\n",
    "        ld.resistance_search_downhill_and_DBSCAN(q, 0.1, 100, 1, 2, False)"
   ]
  },
  {
   "cell_type": "code",
   "execution_count": null,
   "metadata": {},
   "outputs": [],
   "source": [
    "import matplotlib.pyplot as plt\n",
    "import level_detector as ld\n",
    "import btc_correlation as corr\n",
    "import os\n",
    "\n",
    "dirname = 'market_history/'\n",
    "files = os.listdir(dirname)\n",
    "\n",
    "for s in files:\n",
    "    q = s.split('.')[0]\n",
    "\n",
    "    correlation = corr.corellation_quotation(q)\n",
    "    print(q, ':', correlation)"
   ]
  },
  {
   "cell_type": "code",
   "execution_count": 1,
   "metadata": {},
   "outputs": [
    {
     "name": "stdout",
     "output_type": "stream",
     "text": [
      "from \"df_common\", for  BTCUSDT :  Param validation for 'from' failed on the 'required' tag (ErrCode: 10001) (ErrTime: 11:23:31).\n",
      "Request → GET https://api.bybit.com/public/linear/kline: {'symbol': 'BTCUSDT', 'interval': 1, 'startTime': 1659571200000, 'endTime': 1659612210745}.\n"
     ]
    }
   ],
   "source": [
    "import matplotlib.pyplot as plt\n",
    "import level_detector as ld\n",
    "import btc_correlation as corr\n",
    "import os\n",
    "\n",
    "q = 'BTCUSDT'\n",
    "correlation = corr.corellation_quotation(q)\n",
    "resistance_levels, support_levels = ld.resistance_search_downhill_and_DBSCAN(q, 0.1, 150, 3, 1, False)"
   ]
  },
  {
   "cell_type": "code",
   "execution_count": 2,
   "metadata": {},
   "outputs": [
    {
     "ename": "TypeError",
     "evalue": "resistance_search_downhill_and_DBSCAN() missing 1 required positional argument: 'volume_flag'",
     "output_type": "error",
     "traceback": [
      "\u001b[1;31m---------------------------------------------------------------------------\u001b[0m",
      "\u001b[1;31mTypeError\u001b[0m                                 Traceback (most recent call last)",
      "\u001b[1;32mc:\\Users\\daria\\OneDrive\\Рабочий стол\\py_stocks\\levelAnalyser\\modules_tests.ipynb Ячейка 5\u001b[0m in \u001b[0;36m<cell line: 8>\u001b[1;34m()\u001b[0m\n\u001b[0;32m      <a href='vscode-notebook-cell:/c%3A/Users/daria/OneDrive/%D0%A0%D0%B0%D0%B1%D0%BE%D1%87%D0%B8%D0%B9%20%D1%81%D1%82%D0%BE%D0%BB/py_stocks/levelAnalyser/modules_tests.ipynb#ch0000004?line=5'>6</a>\u001b[0m q \u001b[39m=\u001b[39m \u001b[39m'\u001b[39m\u001b[39mBTCUSDT\u001b[39m\u001b[39m'\u001b[39m\n\u001b[0;32m      <a href='vscode-notebook-cell:/c%3A/Users/daria/OneDrive/%D0%A0%D0%B0%D0%B1%D0%BE%D1%87%D0%B8%D0%B9%20%D1%81%D1%82%D0%BE%D0%BB/py_stocks/levelAnalyser/modules_tests.ipynb#ch0000004?line=6'>7</a>\u001b[0m correlation \u001b[39m=\u001b[39m corr\u001b[39m.\u001b[39mcorellation_quotation(q)\n\u001b[1;32m----> <a href='vscode-notebook-cell:/c%3A/Users/daria/OneDrive/%D0%A0%D0%B0%D0%B1%D0%BE%D1%87%D0%B8%D0%B9%20%D1%81%D1%82%D0%BE%D0%BB/py_stocks/levelAnalyser/modules_tests.ipynb#ch0000004?line=7'>8</a>\u001b[0m ld\u001b[39m.\u001b[39;49mresistance_search_downhill_and_DBSCAN(q, \u001b[39m0.1\u001b[39;49m, \u001b[39m150\u001b[39;49m, \u001b[39m3\u001b[39;49m, \u001b[39m1\u001b[39;49m)\n",
      "\u001b[1;31mTypeError\u001b[0m: resistance_search_downhill_and_DBSCAN() missing 1 required positional argument: 'volume_flag'"
     ]
    }
   ],
   "source": [
    "import matplotlib.pyplot as plt\n",
    "import level_detector as ld\n",
    "import btc_correlation as corr\n",
    "import os\n",
    "\n",
    "q = 'BTCUSDT'\n",
    "correlation = corr.corellation_quotation(q)\n",
    "ld.resistance_search_downhill_and_DBSCAN(q, 0.1, 150, 3, 1)"
   ]
  },
  {
   "cell_type": "code",
   "execution_count": 2,
   "metadata": {},
   "outputs": [],
   "source": [
    "import telegram_posting as bot\n",
    "\n",
    "TOKEN = open('telegram_key.txt', 'r').read()\n",
    "\n",
    "bot.telegram_message_send('module test', TOKEN)\n",
    "bot.telegram_photo_send('images/1INCHUSDT.png', TOKEN)\n",
    "bot.telegram_send_media_group('images', TOKEN)\n",
    "bot.telegram_message_send('module test complete', TOKEN)"
   ]
  },
  {
   "cell_type": "code",
   "execution_count": 4,
   "metadata": {},
   "outputs": [],
   "source": [
    "import telegram_posting as bot\n",
    "\n",
    "TOKEN = open('telegram_key.txt', 'r').read()\n",
    "\n",
    "dirname = 'images/'\n",
    "files = os.listdir(dirname)\n",
    "\n",
    "bot.telegram_message_send('test density-based spatial clustering', TOKEN)\n",
    "\n",
    "for s in files:\n",
    "    q = s.split('.')[0]\n",
    "    bot.telegram_photo_send(dirname + q + '.png', TOKEN)\n",
    "\n",
    "bot.telegram_message_send('test complete', TOKEN)"
   ]
  }
 ],
 "metadata": {
  "kernelspec": {
   "display_name": "Python 3.10.5 64-bit",
   "language": "python",
   "name": "python3"
  },
  "language_info": {
   "codemirror_mode": {
    "name": "ipython",
    "version": 3
   },
   "file_extension": ".py",
   "mimetype": "text/x-python",
   "name": "python",
   "nbconvert_exporter": "python",
   "pygments_lexer": "ipython3",
   "version": "3.10.5"
  },
  "orig_nbformat": 4,
  "vscode": {
   "interpreter": {
    "hash": "23a869f485f770016e34d0b646821068146fc1223f42d88213feb34af8b00711"
   }
  }
 },
 "nbformat": 4,
 "nbformat_minor": 2
}

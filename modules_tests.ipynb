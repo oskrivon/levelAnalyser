{
 "cells": [
  {
   "cell_type": "code",
   "execution_count": 1,
   "metadata": {},
   "outputs": [
    {
     "name": "stdout",
     "output_type": "stream",
     "text": [
      "2022 8 29\n",
      "<class 'urllib.error.HTTPError'>\n",
      "<class 'urllib.error.HTTPError'>\n",
      "<class 'urllib.error.HTTPError'>\n",
      "<class 'urllib.error.HTTPError'>\n"
     ]
    }
   ],
   "source": [
    "import get_market_history as mh\n",
    "\n",
    "mh.get_market_history([], 1)"
   ]
  },
  {
   "cell_type": "code",
   "execution_count": null,
   "metadata": {},
   "outputs": [],
   "source": [
    "import matplotlib.pyplot as plt\n",
    "import level_detector as ld\n",
    "import btc_correlation as corr\n",
    "import os\n",
    "\n",
    "dirname = 'market_history/'\n",
    "files = os.listdir(dirname)\n",
    "\n",
    "for s in files:\n",
    "    q = s.split('.')[0]\n",
    "\n",
    "    correlation = corr.corellation_quotation(q)\n",
    "    print(q, ':', correlation)"
   ]
  },
  {
   "cell_type": "code",
   "execution_count": null,
   "metadata": {},
   "outputs": [],
   "source": [
    "import matplotlib.pyplot as plt\n",
    "import level_detector as ld\n",
    "import btc_correlation as corr\n",
    "import os\n",
    "\n",
    "q = 'BTCUSDT'\n",
    "correlation = corr.corellation_quotation(q)\n",
    "resistance_levels, support_levels = ld.resistance_search_downhill_and_DBSCAN(q, 0.1, 150, 3, 1, False)"
   ]
  },
  {
   "cell_type": "code",
   "execution_count": null,
   "metadata": {},
   "outputs": [],
   "source": [
    "import matplotlib.pyplot as plt\n",
    "import level_detector as ld\n",
    "import btc_correlation as corr\n",
    "import os\n",
    "\n",
    "q = 'BTCUSDT'\n",
    "correlation = corr.corellation_quotation(q)\n",
    "ld.resistance_search_downhill_and_DBSCAN(q, 0.1, 150, 3, 1)"
   ]
  },
  {
   "cell_type": "code",
   "execution_count": 2,
   "metadata": {},
   "outputs": [],
   "source": [
    "import telegram_posting as bot\n",
    "\n",
    "TOKEN = open('telegram_key.txt', 'r').read()\n",
    "\n",
    "bot.telegram_message_send('module test', TOKEN)\n",
    "bot.telegram_photo_send('images/1INCHUSDT.png', TOKEN)\n",
    "bot.telegram_send_media_group('images', TOKEN)\n",
    "bot.telegram_message_send('module test complete', TOKEN)"
   ]
  },
  {
   "cell_type": "code",
   "execution_count": 2,
   "metadata": {},
   "outputs": [],
   "source": [
    "import telegram_posting as bot\n",
    "\n",
    "TOKEN = open('telegram_key.txt', 'r').read()\n",
    "\n",
    "dirname = 'images/'\n",
    "files = os.listdir(dirname)\n",
    "\n",
    "bot.telegram_message_send('higher timeframes test', TOKEN)\n",
    "\n",
    "for s in files:\n",
    "    q = s.split('.')[0]\n",
    "    bot.telegram_photo_send(dirname + q + '.png', TOKEN)\n",
    "\n",
    "bot.telegram_message_send('test complete', TOKEN)"
   ]
  },
  {
   "cell_type": "code",
   "execution_count": 3,
   "metadata": {},
   "outputs": [
    {
     "name": "stdout",
     "output_type": "stream",
     "text": [
      "1662045107\n",
      "2022-09-01 16:11:48.291154\n",
      "len: 3\n",
      "1662045300 1482.735\n",
      "1662046200 3045.138\n",
      "1662047100 1181.25\n",
      "1181.25\n"
     ]
    }
   ],
   "source": [
    "# last volume test\n",
    "\n",
    "from pybit import usdt_perpetual\n",
    "import datetime\n",
    "\n",
    "\n",
    "quotation = 'BTCUSDT'\n",
    "interval = 15\n",
    "\n",
    "start_unix = datetime.datetime.now() - datetime.timedelta(hours=1)\n",
    "start = int(datetime.datetime.timestamp(start_unix))\n",
    "print(start)\n",
    "\n",
    "session_unauth = usdt_perpetual.HTTP(endpoint=\"https://api.bybit.com\")\n",
    "\n",
    "data = session_unauth.query_kline(\n",
    "            symbol=quotation,\n",
    "            interval=interval,\n",
    "            #limit=200,\n",
    "            from_time=start\n",
    "            )\n",
    "\n",
    "result = data['result'][:-1]\n",
    "\n",
    "print(datetime.datetime.utcnow())\n",
    "print('len:', len(result))\n",
    "\n",
    "for i in result:\n",
    "    print(i['open_time'], i['volume'])\n",
    "\n",
    "print(result[-1]['volume'])"
   ]
  },
  {
   "cell_type": "code",
   "execution_count": 24,
   "metadata": {},
   "outputs": [
    {
     "name": "stdout",
     "output_type": "stream",
     "text": [
      "2022-09-01 19:35:09.661882\n",
      "50\n",
      "2022-09-01 16:35:00 52855.141\n",
      "2022-09-01 16:30:00 52732.032\n",
      "2022-09-01 16:25:00 52698.999\n",
      "2022-09-01 16:20:00 52725.795\n",
      "2022-09-01 16:15:00 52644.229\n",
      "2022-09-01 16:10:00 52614.861\n",
      "2022-09-01 16:05:00 52532.216\n",
      "2022-09-01 16:00:00 52465.504\n",
      "2022-09-01 15:55:00 52367.789\n",
      "2022-09-01 15:50:00 52299.472\n",
      "2022-09-01 15:45:00 52126.844\n",
      "2022-09-01 15:40:00 52200.329\n",
      "2022-09-01 15:35:00 52209.661\n",
      "2022-09-01 15:30:00 52360.907\n",
      "2022-09-01 15:25:00 52178.895\n",
      "2022-09-01 15:20:00 52276.695\n",
      "2022-09-01 15:15:00 52078.525\n",
      "2022-09-01 15:10:00 51762.118\n",
      "2022-09-01 15:05:00 51199.203\n",
      "2022-09-01 15:00:00 50828.702\n",
      "2022-09-01 14:55:00 50389.663\n",
      "2022-09-01 14:50:00 49872.32\n",
      "2022-09-01 14:45:00 51380.496\n",
      "2022-09-01 14:40:00 51304.762\n",
      "2022-09-01 14:35:00 51296.996\n",
      "2022-09-01 14:30:00 51361.938\n",
      "2022-09-01 14:25:00 51392.132\n",
      "2022-09-01 14:20:00 51328.457\n",
      "2022-09-01 14:15:00 51250.815\n",
      "2022-09-01 14:10:00 50938.661\n",
      "2022-09-01 14:05:00 50818.308\n",
      "2022-09-01 14:00:00 50678.126\n",
      "2022-09-01 13:55:00 50758.214\n",
      "2022-09-01 13:50:00 50630.159\n",
      "2022-09-01 13:45:00 50452.946\n",
      "2022-09-01 13:40:00 50468.316\n",
      "2022-09-01 13:35:00 50229.912\n",
      "2022-09-01 13:30:00 50309.49\n",
      "2022-09-01 13:25:00 50339.508\n",
      "2022-09-01 13:20:00 50314.004\n",
      "2022-09-01 13:15:00 50282.49\n",
      "2022-09-01 13:10:00 50082.636\n",
      "2022-09-01 13:05:00 50280.744\n",
      "2022-09-01 13:00:00 50365.077\n",
      "2022-09-01 12:55:00 50284.849\n",
      "2022-09-01 12:50:00 50328.169\n",
      "2022-09-01 12:45:00 50374.848\n",
      "2022-09-01 12:40:00 50294.639\n",
      "2022-09-01 12:35:00 50513.717\n",
      "2022-09-01 12:30:00 50749.598\n"
     ]
    }
   ],
   "source": [
    "from pybit import inverse_perpetual\n",
    "\n",
    "session_unauth = inverse_perpetual.HTTP(endpoint=\"https://api.bybit.com\")\n",
    "\n",
    "quotation = 'BTCUSDT'\n",
    "period = '5min'\n",
    "\n",
    "data = session_unauth.open_interest(\n",
    "            symbol=quotation,\n",
    "            period=period\n",
    "            )['result']\n",
    "\n",
    "#print(datetime.utcfromtimestamp(ts).strftime('%Y-%m-%d %H:%M:%S'))\n",
    "\n",
    "print(datetime.datetime.now())\n",
    "print(len(data))\n",
    "\n",
    "for i in data:\n",
    "    print(datetime.datetime.utcfromtimestamp(int(i['timestamp'])).\n",
    "    strftime('%Y-%m-%d %H:%M:%S'), i['open_interest'])\n"
   ]
  }
 ],
 "metadata": {
  "kernelspec": {
   "display_name": "Python 3.10.5 64-bit",
   "language": "python",
   "name": "python3"
  },
  "language_info": {
   "codemirror_mode": {
    "name": "ipython",
    "version": 3
   },
   "file_extension": ".py",
   "mimetype": "text/x-python",
   "name": "python",
   "nbconvert_exporter": "python",
   "pygments_lexer": "ipython3",
   "version": "3.10.5"
  },
  "orig_nbformat": 4,
  "vscode": {
   "interpreter": {
    "hash": "23a869f485f770016e34d0b646821068146fc1223f42d88213feb34af8b00711"
   }
  }
 },
 "nbformat": 4,
 "nbformat_minor": 2
}

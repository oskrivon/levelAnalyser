{
 "cells": [
  {
   "cell_type": "code",
   "execution_count": 1,
   "metadata": {},
   "outputs": [
    {
     "name": "stdout",
     "output_type": "stream",
     "text": [
      "2022 8 23\n",
      "<class 'urllib.error.HTTPError'>\n",
      "<class 'urllib.error.HTTPError'>\n",
      "<class 'urllib.error.HTTPError'>\n",
      "<class 'urllib.error.HTTPError'>\n"
     ]
    }
   ],
   "source": [
    "import get_market_history as mh\n",
    "\n",
    "mh.get_market_history([], 1)"
   ]
  },
  {
   "cell_type": "code",
   "execution_count": null,
   "metadata": {},
   "outputs": [],
   "source": [
    "import matplotlib.pyplot as plt\n",
    "import level_detector as ld\n",
    "import btc_correlation as corr\n",
    "import os\n",
    "\n",
    "dirname = 'market_history/'\n",
    "files = os.listdir(dirname)\n",
    "\n",
    "for s in files:\n",
    "    q = s.split('.')[0]\n",
    "\n",
    "    correlation = corr.corellation_quotation(q)\n",
    "    print(q, ':', correlation)"
   ]
  },
  {
   "cell_type": "code",
   "execution_count": null,
   "metadata": {},
   "outputs": [],
   "source": [
    "import matplotlib.pyplot as plt\n",
    "import level_detector as ld\n",
    "import btc_correlation as corr\n",
    "import os\n",
    "\n",
    "q = 'BTCUSDT'\n",
    "correlation = corr.corellation_quotation(q)\n",
    "resistance_levels, support_levels = ld.resistance_search_downhill_and_DBSCAN(q, 0.1, 150, 3, 1, False)"
   ]
  },
  {
   "cell_type": "code",
   "execution_count": null,
   "metadata": {},
   "outputs": [],
   "source": [
    "import matplotlib.pyplot as plt\n",
    "import level_detector as ld\n",
    "import btc_correlation as corr\n",
    "import os\n",
    "\n",
    "q = 'BTCUSDT'\n",
    "correlation = corr.corellation_quotation(q)\n",
    "ld.resistance_search_downhill_and_DBSCAN(q, 0.1, 150, 3, 1)"
   ]
  },
  {
   "cell_type": "code",
   "execution_count": 2,
   "metadata": {},
   "outputs": [],
   "source": [
    "import telegram_posting as bot\n",
    "\n",
    "TOKEN = open('telegram_key.txt', 'r').read()\n",
    "\n",
    "bot.telegram_message_send('module test', TOKEN)\n",
    "bot.telegram_photo_send('images/1INCHUSDT.png', TOKEN)\n",
    "bot.telegram_send_media_group('images', TOKEN)\n",
    "bot.telegram_message_send('module test complete', TOKEN)"
   ]
  },
  {
   "cell_type": "code",
   "execution_count": 2,
   "metadata": {},
   "outputs": [],
   "source": [
    "import telegram_posting as bot\n",
    "\n",
    "TOKEN = open('telegram_key.txt', 'r').read()\n",
    "\n",
    "dirname = 'images/'\n",
    "files = os.listdir(dirname)\n",
    "\n",
    "bot.telegram_message_send('higher timeframes test', TOKEN)\n",
    "\n",
    "for s in files:\n",
    "    q = s.split('.')[0]\n",
    "    bot.telegram_photo_send(dirname + q + '.png', TOKEN)\n",
    "\n",
    "bot.telegram_message_send('test complete', TOKEN)"
   ]
  }
 ],
 "metadata": {
  "kernelspec": {
   "display_name": "Python 3.10.5 64-bit",
   "language": "python",
   "name": "python3"
  },
  "language_info": {
   "codemirror_mode": {
    "name": "ipython",
    "version": 3
   },
   "file_extension": ".py",
   "mimetype": "text/x-python",
   "name": "python",
   "nbconvert_exporter": "python",
   "pygments_lexer": "ipython3",
   "version": "3.10.5"
  },
  "orig_nbformat": 4,
  "vscode": {
   "interpreter": {
    "hash": "23a869f485f770016e34d0b646821068146fc1223f42d88213feb34af8b00711"
   }
  }
 },
 "nbformat": 4,
 "nbformat_minor": 2
}

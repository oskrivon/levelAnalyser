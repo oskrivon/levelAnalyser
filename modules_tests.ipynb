{
 "cells": [
  {
   "cell_type": "code",
   "execution_count": 1,
   "metadata": {},
   "outputs": [
    {
     "name": "stdout",
     "output_type": "stream",
     "text": [
      "2022 8 5\n",
      "<class 'urllib.error.HTTPError'>\n",
      "<class 'urllib.error.HTTPError'>\n",
      "<class 'urllib.error.HTTPError'>\n",
      "<class 'urllib.error.HTTPError'>\n",
      "<class 'urllib.error.HTTPError'>\n",
      "<class 'urllib.error.HTTPError'>\n",
      "<class 'urllib.error.HTTPError'>\n",
      "<class 'urllib.error.HTTPError'>\n",
      "<class 'urllib.error.HTTPError'>\n",
      "<class 'urllib.error.HTTPError'>\n",
      "<class 'urllib.error.HTTPError'>\n",
      "<class 'urllib.error.HTTPError'>\n",
      "<class 'urllib.error.HTTPError'>\n",
      "<class 'urllib.error.HTTPError'>\n",
      "<class 'urllib.error.HTTPError'>\n",
      "<class 'urllib.error.HTTPError'>\n",
      "<class 'urllib.error.HTTPError'>\n",
      "<class 'urllib.error.HTTPError'>\n",
      "<class 'urllib.error.HTTPError'>\n",
      "<class 'urllib.error.HTTPError'>\n",
      "<class 'urllib.error.HTTPError'>\n"
     ]
    }
   ],
   "source": [
    "import get_market_history as mh\n",
    "\n",
    "mh.get_market_history()"
   ]
  },
  {
   "cell_type": "code",
   "execution_count": 1,
   "metadata": {},
   "outputs": [
    {
     "name": "stdout",
     "output_type": "stream",
     "text": [
      "15\n",
      "5142\n",
      "5091\n",
      "16\n",
      "4387\n",
      "5037\n",
      "5266\n",
      "2548\n",
      "5035\n",
      "2108\n",
      "5107\n",
      "5026\n",
      "1064\n"
     ]
    }
   ],
   "source": [
    "import matplotlib.pyplot as plt\n",
    "import level_detector as ld\n",
    "import btc_correlation as corr\n",
    "import os\n",
    "\n",
    "dirname = 'market_history/'\n",
    "files = os.listdir(dirname)\n",
    "\n",
    "for s in files:\n",
    "    q = s.split('.')[0]\n",
    "\n",
    "    correlation = corr.corellation_quotation(q)\n",
    "\n",
    "    if (correlation < 0.8) or (correlation == 1):\n",
    "        #print(q)\n",
    "        ld.resistance_search_downhill_and_DBSCAN(q, 0.1, 3, 1, 2, False)"
   ]
  },
  {
   "cell_type": "code",
   "execution_count": null,
   "metadata": {},
   "outputs": [],
   "source": [
    "import matplotlib.pyplot as plt\n",
    "import level_detector as ld\n",
    "import btc_correlation as corr\n",
    "import os\n",
    "\n",
    "dirname = 'market_history/'\n",
    "files = os.listdir(dirname)\n",
    "\n",
    "for s in files:\n",
    "    q = s.split('.')[0]\n",
    "\n",
    "    correlation = corr.corellation_quotation(q)\n",
    "    print(q, ':', correlation)"
   ]
  },
  {
   "cell_type": "code",
   "execution_count": 1,
   "metadata": {},
   "outputs": [
    {
     "name": "stdout",
     "output_type": "stream",
     "text": [
      "from \"df_common\", for  BTCUSDT :  Param validation for 'from' failed on the 'required' tag (ErrCode: 10001) (ErrTime: 11:23:31).\n",
      "Request → GET https://api.bybit.com/public/linear/kline: {'symbol': 'BTCUSDT', 'interval': 1, 'startTime': 1659571200000, 'endTime': 1659612210745}.\n"
     ]
    }
   ],
   "source": [
    "import matplotlib.pyplot as plt\n",
    "import level_detector as ld\n",
    "import btc_correlation as corr\n",
    "import os\n",
    "\n",
    "q = 'BTCUSDT'\n",
    "correlation = corr.corellation_quotation(q)\n",
    "resistance_levels, support_levels = ld.resistance_search_downhill_and_DBSCAN(q, 0.1, 150, 3, 1, False)"
   ]
  },
  {
   "cell_type": "code",
   "execution_count": 2,
   "metadata": {},
   "outputs": [
    {
     "ename": "TypeError",
     "evalue": "resistance_search_downhill_and_DBSCAN() missing 1 required positional argument: 'volume_flag'",
     "output_type": "error",
     "traceback": [
      "\u001b[1;31m---------------------------------------------------------------------------\u001b[0m",
      "\u001b[1;31mTypeError\u001b[0m                                 Traceback (most recent call last)",
      "\u001b[1;32mc:\\Users\\daria\\OneDrive\\Рабочий стол\\py_stocks\\levelAnalyser\\modules_tests.ipynb Ячейка 5\u001b[0m in \u001b[0;36m<cell line: 8>\u001b[1;34m()\u001b[0m\n\u001b[0;32m      <a href='vscode-notebook-cell:/c%3A/Users/daria/OneDrive/%D0%A0%D0%B0%D0%B1%D0%BE%D1%87%D0%B8%D0%B9%20%D1%81%D1%82%D0%BE%D0%BB/py_stocks/levelAnalyser/modules_tests.ipynb#ch0000004?line=5'>6</a>\u001b[0m q \u001b[39m=\u001b[39m \u001b[39m'\u001b[39m\u001b[39mBTCUSDT\u001b[39m\u001b[39m'\u001b[39m\n\u001b[0;32m      <a href='vscode-notebook-cell:/c%3A/Users/daria/OneDrive/%D0%A0%D0%B0%D0%B1%D0%BE%D1%87%D0%B8%D0%B9%20%D1%81%D1%82%D0%BE%D0%BB/py_stocks/levelAnalyser/modules_tests.ipynb#ch0000004?line=6'>7</a>\u001b[0m correlation \u001b[39m=\u001b[39m corr\u001b[39m.\u001b[39mcorellation_quotation(q)\n\u001b[1;32m----> <a href='vscode-notebook-cell:/c%3A/Users/daria/OneDrive/%D0%A0%D0%B0%D0%B1%D0%BE%D1%87%D0%B8%D0%B9%20%D1%81%D1%82%D0%BE%D0%BB/py_stocks/levelAnalyser/modules_tests.ipynb#ch0000004?line=7'>8</a>\u001b[0m ld\u001b[39m.\u001b[39;49mresistance_search_downhill_and_DBSCAN(q, \u001b[39m0.1\u001b[39;49m, \u001b[39m150\u001b[39;49m, \u001b[39m3\u001b[39;49m, \u001b[39m1\u001b[39;49m)\n",
      "\u001b[1;31mTypeError\u001b[0m: resistance_search_downhill_and_DBSCAN() missing 1 required positional argument: 'volume_flag'"
     ]
    }
   ],
   "source": [
    "import matplotlib.pyplot as plt\n",
    "import level_detector as ld\n",
    "import btc_correlation as corr\n",
    "import os\n",
    "\n",
    "q = 'BTCUSDT'\n",
    "correlation = corr.corellation_quotation(q)\n",
    "ld.resistance_search_downhill_and_DBSCAN(q, 0.1, 150, 3, 1)"
   ]
  },
  {
   "cell_type": "code",
   "execution_count": 2,
   "metadata": {},
   "outputs": [],
   "source": [
    "import telegram_posting as bot\n",
    "\n",
    "TOKEN = open('telegram_key.txt', 'r').read()\n",
    "\n",
    "bot.telegram_message_send('module test', TOKEN)\n",
    "bot.telegram_photo_send('images/1INCHUSDT.png', TOKEN)\n",
    "bot.telegram_send_media_group('images', TOKEN)\n",
    "bot.telegram_message_send('module test complete', TOKEN)"
   ]
  },
  {
   "cell_type": "code",
   "execution_count": 2,
   "metadata": {},
   "outputs": [],
   "source": [
    "import telegram_posting as bot\n",
    "\n",
    "TOKEN = open('telegram_key.txt', 'r').read()\n",
    "\n",
    "dirname = 'images/'\n",
    "files = os.listdir(dirname)\n",
    "\n",
    "bot.telegram_message_send('automatic data update test', TOKEN)\n",
    "\n",
    "for s in files:\n",
    "    q = s.split('.')[0]\n",
    "    bot.telegram_photo_send(dirname + q + '.png', TOKEN)\n",
    "\n",
    "bot.telegram_message_send('test complete', TOKEN)"
   ]
  }
 ],
 "metadata": {
  "kernelspec": {
   "display_name": "Python 3.10.5 64-bit",
   "language": "python",
   "name": "python3"
  },
  "language_info": {
   "codemirror_mode": {
    "name": "ipython",
    "version": 3
   },
   "file_extension": ".py",
   "mimetype": "text/x-python",
   "name": "python",
   "nbconvert_exporter": "python",
   "pygments_lexer": "ipython3",
   "version": "3.10.5"
  },
  "orig_nbformat": 4,
  "vscode": {
   "interpreter": {
    "hash": "23a869f485f770016e34d0b646821068146fc1223f42d88213feb34af8b00711"
   }
  }
 },
 "nbformat": 4,
 "nbformat_minor": 2
}

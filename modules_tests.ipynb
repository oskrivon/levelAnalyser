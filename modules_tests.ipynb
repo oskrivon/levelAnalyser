{
 "cells": [
  {
   "cell_type": "code",
   "execution_count": 1,
   "metadata": {},
   "outputs": [
    {
     "name": "stdout",
     "output_type": "stream",
     "text": [
      "2022 8 7\n",
      "<class 'urllib.error.HTTPError'>\n",
      "<class 'urllib.error.HTTPError'>\n",
      "<class 'urllib.error.HTTPError'>\n",
      "<class 'urllib.error.HTTPError'>\n",
      "<class 'urllib.error.HTTPError'>\n",
      "<class 'urllib.error.HTTPError'>\n",
      "<class 'urllib.error.HTTPError'>\n",
      "<class 'urllib.error.HTTPError'>\n",
      "<class 'urllib.error.HTTPError'>\n",
      "<class 'urllib.error.HTTPError'>\n",
      "<class 'urllib.error.HTTPError'>\n",
      "<class 'urllib.error.HTTPError'>\n",
      "<class 'urllib.error.HTTPError'>\n",
      "<class 'urllib.error.HTTPError'>\n",
      "<class 'urllib.error.HTTPError'>\n",
      "<class 'urllib.error.HTTPError'>\n",
      "<class 'urllib.error.HTTPError'>\n",
      "<class 'urllib.error.HTTPError'>\n",
      "<class 'urllib.error.HTTPError'>\n",
      "<class 'urllib.error.HTTPError'>\n",
      "<class 'urllib.error.HTTPError'>\n"
     ]
    }
   ],
   "source": [
    "import get_market_history as mh\n",
    "\n",
    "mh.get_market_history()"
   ]
  },
  {
   "cell_type": "code",
   "execution_count": 9,
   "metadata": {},
   "outputs": [
    {
     "name": "stdout",
     "output_type": "stream",
     "text": [
      "from \"df_common\", for  DOTUSD :  Param validation for 'symbol' failed on the 'linear_symbol' tag (ErrCode: 10001) (ErrTime: 14:13:18).\n",
      "Request → GET https://api.bybit.com/public/linear/kline: {'symbol': 'DOTUSD', 'interval': 1, 'from': 1659830400}.\n",
      "from \"df_common\", func \"data_update\" - break\n",
      "from \"df_common\", for  LTCUSD :  Param validation for 'symbol' failed on the 'linear_symbol' tag (ErrCode: 10001) (ErrTime: 14:15:54).\n",
      "Request → GET https://api.bybit.com/public/linear/kline: {'symbol': 'LTCUSD', 'interval': 1, 'from': 1659830400}.\n",
      "from \"df_common\", func \"data_update\" - break\n",
      "from \"df_common\", for  MANAUSD :  Param validation for 'symbol' failed on the 'linear_symbol' tag (ErrCode: 10001) (ErrTime: 14:16:03).\n",
      "Request → GET https://api.bybit.com/public/linear/kline: {'symbol': 'MANAUSD', 'interval': 1, 'from': 1659830400}.\n",
      "from \"df_common\", func \"data_update\" - break\n"
     ]
    }
   ],
   "source": [
    "import matplotlib.pyplot as plt\n",
    "import level_detector as ld\n",
    "import btc_correlation as corr\n",
    "import os\n",
    "\n",
    "dirname = 'market_history/'\n",
    "files = os.listdir(dirname)\n",
    "\n",
    "for s in files:\n",
    "    q = s.split('.')[0]\n",
    "\n",
    "    correlation = corr.corellation_quotation(q)\n",
    "\n",
    "    if (correlation < 0.8) or (correlation == 1):\n",
    "        #print(q)\n",
    "        ld.resistance_search_downhill_and_DBSCAN(q, 0.02, 50, 3, 10, False)"
   ]
  },
  {
   "cell_type": "code",
   "execution_count": 1,
   "metadata": {},
   "outputs": [
    {
     "ename": "AttributeError",
     "evalue": "'float' object has no attribute 'round'",
     "output_type": "error",
     "traceback": [
      "\u001b[1;31m---------------------------------------------------------------------------\u001b[0m",
      "\u001b[1;31mAttributeError\u001b[0m                            Traceback (most recent call last)",
      "\u001b[1;32mc:\\Users\\daria\\OneDrive\\Рабочий стол\\py_stocks\\levelAnalyser\\modules_tests.ipynb Ячейка 3\u001b[0m in \u001b[0;36m<cell line: 9>\u001b[1;34m()\u001b[0m\n\u001b[0;32m     <a href='vscode-notebook-cell:/c%3A/Users/daria/OneDrive/%D0%A0%D0%B0%D0%B1%D0%BE%D1%87%D0%B8%D0%B9%20%D1%81%D1%82%D0%BE%D0%BB/py_stocks/levelAnalyser/modules_tests.ipynb#X10sZmlsZQ%3D%3D?line=11'>12</a>\u001b[0m correlation \u001b[39m=\u001b[39m corr\u001b[39m.\u001b[39mcorellation_quotation(q)\n\u001b[0;32m     <a href='vscode-notebook-cell:/c%3A/Users/daria/OneDrive/%D0%A0%D0%B0%D0%B1%D0%BE%D1%87%D0%B8%D0%B9%20%D1%81%D1%82%D0%BE%D0%BB/py_stocks/levelAnalyser/modules_tests.ipynb#X10sZmlsZQ%3D%3D?line=13'>14</a>\u001b[0m \u001b[39mif\u001b[39;00m (correlation \u001b[39m<\u001b[39m \u001b[39m0.8\u001b[39m) \u001b[39mor\u001b[39;00m (correlation \u001b[39m==\u001b[39m \u001b[39m1\u001b[39m):\n\u001b[0;32m     <a href='vscode-notebook-cell:/c%3A/Users/daria/OneDrive/%D0%A0%D0%B0%D0%B1%D0%BE%D1%87%D0%B8%D0%B9%20%D1%81%D1%82%D0%BE%D0%BB/py_stocks/levelAnalyser/modules_tests.ipynb#X10sZmlsZQ%3D%3D?line=14'>15</a>\u001b[0m     \u001b[39m#print(q)\u001b[39;00m\n\u001b[1;32m---> <a href='vscode-notebook-cell:/c%3A/Users/daria/OneDrive/%D0%A0%D0%B0%D0%B1%D0%BE%D1%87%D0%B8%D0%B9%20%D1%81%D1%82%D0%BE%D0%BB/py_stocks/levelAnalyser/modules_tests.ipynb#X10sZmlsZQ%3D%3D?line=15'>16</a>\u001b[0m     ld\u001b[39m.\u001b[39;49mresistance_search_downhill(q, \u001b[39m0.02\u001b[39;49m, \u001b[39m50\u001b[39;49m, \u001b[39m3\u001b[39;49m, \u001b[39mFalse\u001b[39;49;00m)\n",
      "File \u001b[1;32mc:\\Users\\daria\\OneDrive\\Рабочий стол\\py_stocks\\levelAnalyser\\level_detector.py:312\u001b[0m, in \u001b[0;36mresistance_search_downhill\u001b[1;34m(quotation, th, savgol_filter_param, poly, volume_flag)\u001b[0m\n\u001b[0;32m    309\u001b[0m \u001b[39m# gag\u001b[39;00m\n\u001b[0;32m    310\u001b[0m cluster_numbers \u001b[39m=\u001b[39m \u001b[39m99\u001b[39m\n\u001b[1;32m--> 312\u001b[0m mpf_plot(minutly_price, quotation, resistance_levels, support_levels,\n\u001b[0;32m    313\u001b[0m          cluster_numbers, th, diff_percent, \u001b[39m0.0\u001b[39;49m, volume_flag)\n\u001b[0;32m    315\u001b[0m \u001b[39mreturn\u001b[39;00m resistance_levels, support_levels\n",
      "File \u001b[1;32mc:\\Users\\daria\\OneDrive\\Рабочий стол\\py_stocks\\levelAnalyser\\level_detector.py:130\u001b[0m, in \u001b[0;36mmpf_plot\u001b[1;34m(df, quotation, resistance, support, cluster_numbers, threshold, diff_percent, eps, volume_flag)\u001b[0m\n\u001b[0;32m    124\u001b[0m resistance_tx \u001b[39m=\u001b[39m levels_text_create(resistance)\n\u001b[0;32m    125\u001b[0m support_tx \u001b[39m=\u001b[39m levels_text_create(support)\n\u001b[0;32m    127\u001b[0m tx \u001b[39m=\u001b[39m (quotation \u001b[39m+\u001b[39m \u001b[39m'\u001b[39m\u001b[39m  \u001b[39m\u001b[39m'\u001b[39m \u001b[39m+\u001b[39m \u001b[39mstr\u001b[39m(df\u001b[39m.\u001b[39mindex[\u001b[39m0\u001b[39m]) \u001b[39m+\u001b[39m \u001b[39m'\u001b[39m\u001b[39m - \u001b[39m\u001b[39m'\u001b[39m \u001b[39m+\u001b[39m \u001b[39mstr\u001b[39m(df\u001b[39m.\u001b[39mindex[\u001b[39m-\u001b[39m\u001b[39m1\u001b[39m]) \u001b[39m+\u001b[39m \u001b[39m'\u001b[39m\u001b[39m\\n\u001b[39;00m\u001b[39m'\u001b[39m \u001b[39m+\u001b[39m\n\u001b[0;32m    128\u001b[0m       \u001b[39m'\u001b[39m\u001b[39mth = \u001b[39m\u001b[39m'\u001b[39m \u001b[39m+\u001b[39m \u001b[39mstr\u001b[39m(threshold) \u001b[39m+\u001b[39m \u001b[39m'\u001b[39m\u001b[39m | \u001b[39m\u001b[39m'\u001b[39m \u001b[39m+\u001b[39m \n\u001b[0;32m    129\u001b[0m       \u001b[39m'\u001b[39m\u001b[39mmax_diff = \u001b[39m\u001b[39m'\u001b[39m \u001b[39m+\u001b[39m \u001b[39mstr\u001b[39m(diff_percent\u001b[39m.\u001b[39mround(\u001b[39m5\u001b[39m)) \u001b[39m+\u001b[39m \u001b[39m'\u001b[39m\u001b[39m%\u001b[39m\u001b[39m'\u001b[39m \u001b[39m+\u001b[39m \u001b[39m'\u001b[39m\u001b[39m | \u001b[39m\u001b[39m'\u001b[39m \u001b[39m+\u001b[39m \n\u001b[1;32m--> 130\u001b[0m       \u001b[39m'\u001b[39m\u001b[39meps = \u001b[39m\u001b[39m'\u001b[39m \u001b[39m+\u001b[39m \u001b[39mstr\u001b[39m(eps\u001b[39m.\u001b[39;49mround(\u001b[39m5\u001b[39m)) \u001b[39m+\u001b[39m \u001b[39m'\u001b[39m\u001b[39m | \u001b[39m\u001b[39m'\u001b[39m \u001b[39m+\u001b[39m \n\u001b[0;32m    131\u001b[0m       \u001b[39m'\u001b[39m\u001b[39mcluster numbers = \u001b[39m\u001b[39m'\u001b[39m \u001b[39m+\u001b[39m \u001b[39mstr\u001b[39m(cluster_numbers) \u001b[39m+\u001b[39m \u001b[39m'\u001b[39m\u001b[39m\\n\u001b[39;00m\u001b[39m'\u001b[39m \u001b[39m+\u001b[39m \n\u001b[0;32m    132\u001b[0m       \u001b[39m'\u001b[39m\u001b[39mresistances: \u001b[39m\u001b[39m'\u001b[39m \u001b[39m+\u001b[39m resistance_tx \u001b[39m+\u001b[39m \u001b[39m'\u001b[39m\u001b[39m\\n\u001b[39;00m\u001b[39m'\u001b[39m \u001b[39m+\u001b[39m \n\u001b[0;32m    133\u001b[0m       \u001b[39m'\u001b[39m\u001b[39msupports: \u001b[39m\u001b[39m'\u001b[39m \u001b[39m+\u001b[39m support_tx\n\u001b[0;32m    134\u001b[0m      )\n\u001b[0;32m    136\u001b[0m levels \u001b[39m=\u001b[39m  resistance \u001b[39m+\u001b[39m support\n\u001b[0;32m    137\u001b[0m colors \u001b[39m=\u001b[39m \u001b[39mtuple\u001b[39m([\u001b[39m'\u001b[39m\u001b[39mr\u001b[39m\u001b[39m'\u001b[39m] \u001b[39m*\u001b[39m \u001b[39mlen\u001b[39m(resistance) \u001b[39m+\u001b[39m [\u001b[39m'\u001b[39m\u001b[39mg\u001b[39m\u001b[39m'\u001b[39m] \u001b[39m*\u001b[39m \u001b[39mlen\u001b[39m(support))\n",
      "\u001b[1;31mAttributeError\u001b[0m: 'float' object has no attribute 'round'"
     ]
    }
   ],
   "source": [
    "import matplotlib.pyplot as plt\n",
    "import level_detector as ld\n",
    "import btc_correlation as corr\n",
    "import os\n",
    "\n",
    "dirname = 'market_history/'\n",
    "files = os.listdir(dirname)\n",
    "\n",
    "for s in files:\n",
    "    q = s.split('.')[0]\n",
    "\n",
    "    correlation = corr.corellation_quotation(q)\n",
    "\n",
    "    if (correlation < 0.8) or (correlation == 1):\n",
    "        #print(q)\n",
    "        ld.resistance_search_downhill(q, 0.02, 50, 3, False)"
   ]
  },
  {
   "cell_type": "code",
   "execution_count": null,
   "metadata": {},
   "outputs": [],
   "source": [
    "import matplotlib.pyplot as plt\n",
    "import level_detector as ld\n",
    "import btc_correlation as corr\n",
    "import os\n",
    "\n",
    "dirname = 'market_history/'\n",
    "files = os.listdir(dirname)\n",
    "\n",
    "for s in files:\n",
    "    q = s.split('.')[0]\n",
    "\n",
    "    correlation = corr.corellation_quotation(q)\n",
    "    print(q, ':', correlation)"
   ]
  },
  {
   "cell_type": "code",
   "execution_count": 1,
   "metadata": {},
   "outputs": [
    {
     "name": "stdout",
     "output_type": "stream",
     "text": [
      "from \"df_common\", for  BTCUSDT :  Param validation for 'from' failed on the 'required' tag (ErrCode: 10001) (ErrTime: 11:23:31).\n",
      "Request → GET https://api.bybit.com/public/linear/kline: {'symbol': 'BTCUSDT', 'interval': 1, 'startTime': 1659571200000, 'endTime': 1659612210745}.\n"
     ]
    }
   ],
   "source": [
    "import matplotlib.pyplot as plt\n",
    "import level_detector as ld\n",
    "import btc_correlation as corr\n",
    "import os\n",
    "\n",
    "q = 'BTCUSDT'\n",
    "correlation = corr.corellation_quotation(q)\n",
    "resistance_levels, support_levels = ld.resistance_search_downhill_and_DBSCAN(q, 0.1, 150, 3, 1, False)"
   ]
  },
  {
   "cell_type": "code",
   "execution_count": 2,
   "metadata": {},
   "outputs": [
    {
     "ename": "TypeError",
     "evalue": "resistance_search_downhill_and_DBSCAN() missing 1 required positional argument: 'volume_flag'",
     "output_type": "error",
     "traceback": [
      "\u001b[1;31m---------------------------------------------------------------------------\u001b[0m",
      "\u001b[1;31mTypeError\u001b[0m                                 Traceback (most recent call last)",
      "\u001b[1;32mc:\\Users\\daria\\OneDrive\\Рабочий стол\\py_stocks\\levelAnalyser\\modules_tests.ipynb Ячейка 5\u001b[0m in \u001b[0;36m<cell line: 8>\u001b[1;34m()\u001b[0m\n\u001b[0;32m      <a href='vscode-notebook-cell:/c%3A/Users/daria/OneDrive/%D0%A0%D0%B0%D0%B1%D0%BE%D1%87%D0%B8%D0%B9%20%D1%81%D1%82%D0%BE%D0%BB/py_stocks/levelAnalyser/modules_tests.ipynb#ch0000004?line=5'>6</a>\u001b[0m q \u001b[39m=\u001b[39m \u001b[39m'\u001b[39m\u001b[39mBTCUSDT\u001b[39m\u001b[39m'\u001b[39m\n\u001b[0;32m      <a href='vscode-notebook-cell:/c%3A/Users/daria/OneDrive/%D0%A0%D0%B0%D0%B1%D0%BE%D1%87%D0%B8%D0%B9%20%D1%81%D1%82%D0%BE%D0%BB/py_stocks/levelAnalyser/modules_tests.ipynb#ch0000004?line=6'>7</a>\u001b[0m correlation \u001b[39m=\u001b[39m corr\u001b[39m.\u001b[39mcorellation_quotation(q)\n\u001b[1;32m----> <a href='vscode-notebook-cell:/c%3A/Users/daria/OneDrive/%D0%A0%D0%B0%D0%B1%D0%BE%D1%87%D0%B8%D0%B9%20%D1%81%D1%82%D0%BE%D0%BB/py_stocks/levelAnalyser/modules_tests.ipynb#ch0000004?line=7'>8</a>\u001b[0m ld\u001b[39m.\u001b[39;49mresistance_search_downhill_and_DBSCAN(q, \u001b[39m0.1\u001b[39;49m, \u001b[39m150\u001b[39;49m, \u001b[39m3\u001b[39;49m, \u001b[39m1\u001b[39;49m)\n",
      "\u001b[1;31mTypeError\u001b[0m: resistance_search_downhill_and_DBSCAN() missing 1 required positional argument: 'volume_flag'"
     ]
    }
   ],
   "source": [
    "import matplotlib.pyplot as plt\n",
    "import level_detector as ld\n",
    "import btc_correlation as corr\n",
    "import os\n",
    "\n",
    "q = 'BTCUSDT'\n",
    "correlation = corr.corellation_quotation(q)\n",
    "ld.resistance_search_downhill_and_DBSCAN(q, 0.1, 150, 3, 1)"
   ]
  },
  {
   "cell_type": "code",
   "execution_count": 2,
   "metadata": {},
   "outputs": [],
   "source": [
    "import telegram_posting as bot\n",
    "\n",
    "TOKEN = open('telegram_key.txt', 'r').read()\n",
    "\n",
    "bot.telegram_message_send('module test', TOKEN)\n",
    "bot.telegram_photo_send('images/1INCHUSDT.png', TOKEN)\n",
    "bot.telegram_send_media_group('images', TOKEN)\n",
    "bot.telegram_message_send('module test complete', TOKEN)"
   ]
  },
  {
   "cell_type": "code",
   "execution_count": 2,
   "metadata": {},
   "outputs": [],
   "source": [
    "import telegram_posting as bot\n",
    "\n",
    "TOKEN = open('telegram_key.txt', 'r').read()\n",
    "\n",
    "dirname = 'images/'\n",
    "files = os.listdir(dirname)\n",
    "\n",
    "bot.telegram_message_send('automatic data update test', TOKEN)\n",
    "\n",
    "for s in files:\n",
    "    q = s.split('.')[0]\n",
    "    bot.telegram_photo_send(dirname + q + '.png', TOKEN)\n",
    "\n",
    "bot.telegram_message_send('test complete', TOKEN)"
   ]
  }
 ],
 "metadata": {
  "kernelspec": {
   "display_name": "Python 3.10.5 64-bit",
   "language": "python",
   "name": "python3"
  },
  "language_info": {
   "codemirror_mode": {
    "name": "ipython",
    "version": 3
   },
   "file_extension": ".py",
   "mimetype": "text/x-python",
   "name": "python",
   "nbconvert_exporter": "python",
   "pygments_lexer": "ipython3",
   "version": "3.10.5"
  },
  "orig_nbformat": 4,
  "vscode": {
   "interpreter": {
    "hash": "23a869f485f770016e34d0b646821068146fc1223f42d88213feb34af8b00711"
   }
  }
 },
 "nbformat": 4,
 "nbformat_minor": 2
}

{
 "cells": [
  {
   "cell_type": "code",
   "execution_count": 1,
   "metadata": {},
   "outputs": [],
   "source": [
    "import matplotlib.pyplot as plt\n",
    "import level_detector as ld\n",
    "#import btc_correlation as corr\n",
    "import os\n",
    "import numpy as np\n",
    "\n",
    "dirname = 'market_history/'\n",
    "files = os.listdir(dirname)\n",
    "\n",
    "q = '1INCHUSDT'\n",
    "\n",
    "th = 0.1\n",
    "volume_flag = False"
   ]
  },
  {
   "cell_type": "code",
   "execution_count": 3,
   "metadata": {},
   "outputs": [
    {
     "name": "stdout",
     "output_type": "stream",
     "text": [
      "volumes:\n",
      "timestamp\n",
      "2022-08-25 00:00:00    2702.552\n",
      "2022-08-25 00:15:00    1129.509\n",
      "2022-08-25 00:30:00    2424.653\n",
      "2022-08-25 00:45:00     958.963\n",
      "2022-08-25 01:00:00    1354.938\n",
      "                         ...   \n",
      "2022-08-26 16:45:00    2136.169\n",
      "2022-08-26 17:00:00    2370.523\n",
      "2022-08-26 17:15:00    1399.758\n",
      "2022-08-26 17:30:00    1238.082\n",
      "2022-08-26 17:45:00     150.033\n",
      "Name: Volume, Length: 168, dtype: float64\n"
     ]
    },
    {
     "data": {
      "text/plain": [
       "([21799.0, 20829.5], [20575.0])"
      ]
     },
     "execution_count": 3,
     "metadata": {},
     "output_type": "execute_result"
    }
   ],
   "source": [
    "ld.improvise_algorithm('BTCUSDT', 0.1, False, True)"
   ]
  },
  {
   "cell_type": "code",
   "execution_count": 3,
   "metadata": {},
   "outputs": [
    {
     "ename": "",
     "evalue": "",
     "output_type": "error",
     "traceback": [
      "При выполнении кода в текущей ячейке или предыдущей ячейке ядро аварийно завершило работу. Проверьте код в ячейках, чтобы определить возможную причину сбоя. Щелкните <a href=\"https://aka.ms/vscodeJupyterKernelCrash\">здесь</a> для получения дополнительных сведений. Подробнее см. в <a href='command:jupyter.viewOutput'>журнале Jupyter</a>."
     ]
    }
   ],
   "source": [
    "dirname = 'market_history/'\n",
    "files = os.listdir(dirname)\n",
    "\n",
    "for s in files:\n",
    "    q = s.split('.')[0]\n",
    "    \n",
    "    ld.improvise_algorithm(q, 0.1, False, True)"
   ]
  }
 ],
 "metadata": {
  "kernelspec": {
   "display_name": "Python 3.10.5 64-bit",
   "language": "python",
   "name": "python3"
  },
  "language_info": {
   "codemirror_mode": {
    "name": "ipython",
    "version": 3
   },
   "file_extension": ".py",
   "mimetype": "text/x-python",
   "name": "python",
   "nbconvert_exporter": "python",
   "pygments_lexer": "ipython3",
   "version": "3.10.5"
  },
  "orig_nbformat": 4,
  "vscode": {
   "interpreter": {
    "hash": "23a869f485f770016e34d0b646821068146fc1223f42d88213feb34af8b00711"
   }
  }
 },
 "nbformat": 4,
 "nbformat_minor": 2
}

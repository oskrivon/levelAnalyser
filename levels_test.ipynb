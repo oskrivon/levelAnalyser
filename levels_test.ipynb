{
 "cells": [
  {
   "cell_type": "code",
   "execution_count": 1,
   "metadata": {},
   "outputs": [],
   "source": [
    "import matplotlib.pyplot as plt\n",
    "import level_detector as ld\n",
    "#import btc_correlation as corr\n",
    "import os\n",
    "import numpy as np\n",
    "\n",
    "dirname = 'market_history/'\n",
    "files = os.listdir(dirname)\n",
    "\n",
    "q = '1INCHUSDT'\n",
    "\n",
    "th = 0.1\n",
    "volume_flag = False\n",
    "\n",
    "#ld.downhill_and_touch_counter(q, 0.02, 3, 10, False)"
   ]
  },
  {
   "cell_type": "code",
   "execution_count": null,
   "metadata": {},
   "outputs": [],
   "source": [
    "dirname = 'market_history/'\n",
    "files = os.listdir(dirname)\n",
    "\n",
    "for s in files:\n",
    "    q = s.split('.')[0]\n",
    "    \n",
    "    ld.improvise_algorithm(q, 0.1, False)"
   ]
  }
 ],
 "metadata": {
  "kernelspec": {
   "display_name": "Python 3.10.5 64-bit",
   "language": "python",
   "name": "python3"
  },
  "language_info": {
   "codemirror_mode": {
    "name": "ipython",
    "version": 3
   },
   "file_extension": ".py",
   "mimetype": "text/x-python",
   "name": "python",
   "nbconvert_exporter": "python",
   "pygments_lexer": "ipython3",
   "version": "3.10.5"
  },
  "orig_nbformat": 4,
  "vscode": {
   "interpreter": {
    "hash": "23a869f485f770016e34d0b646821068146fc1223f42d88213feb34af8b00711"
   }
  }
 },
 "nbformat": 4,
 "nbformat_minor": 2
}

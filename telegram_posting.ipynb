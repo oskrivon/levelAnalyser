{
 "cells": [
  {
   "cell_type": "code",
   "execution_count": 2,
   "metadata": {},
   "outputs": [],
   "source": [
    "import os\n",
    "import json\n",
    "import requests"
   ]
  },
  {
   "cell_type": "code",
   "execution_count": 3,
   "metadata": {},
   "outputs": [],
   "source": [
    "TOKEN = open('telegram_key.txt', 'r').read()\n",
    "channel_id = '@level_signals'"
   ]
  },
  {
   "cell_type": "code",
   "execution_count": 4,
   "metadata": {},
   "outputs": [],
   "source": [
    "def telegram_message_send(text: str, token):\n",
    "    url = 'https://api.telegram.org/bot' + token + '/sendMessage'\n",
    "    channel_id = '@level_signals'\n",
    "\n",
    "    data = {'chat_id': channel_id, 'text': text}\n",
    "\n",
    "    r = requests.post(url, data=data)"
   ]
  },
  {
   "cell_type": "code",
   "execution_count": 5,
   "metadata": {},
   "outputs": [],
   "source": [
    "def telegram_photo_send(path, token):\n",
    "    url = 'https://api.telegram.org/bot' +  token + '/sendPhoto'\n",
    "    channel_id = '@level_signals'\n",
    "\n",
    "    files = {'photo': open(path, 'rb')}\n",
    "    data = {'chat_id' : \"@level_signals\"}\n",
    "\n",
    "    r = requests.post(url, files=files, data=data)"
   ]
  },
  {
   "cell_type": "code",
   "execution_count": 6,
   "metadata": {},
   "outputs": [],
   "source": [
    "def telegram_send_media_group(path, token):    \n",
    "    url = \"https://api.telegram.org/bot\" + token + \"/sendMediaGroup\"\n",
    "    channel_id = \"@level_signals\"\n",
    "\n",
    "    files = dict.fromkeys(os.listdir(path))\n",
    "    folder = path + '/'\n",
    "\n",
    "    media_list = []\n",
    "\n",
    "    for key in files:\n",
    "        files[key] = open(folder + key, 'rb')\n",
    "\n",
    "        media_data = dict.fromkeys(['type', 'media', 'caption'])\n",
    "        media_data['type'] = 'photo'\n",
    "        media_data['media'] = 'attach://' + key\n",
    "        media_data['caption'] = key\n",
    "        \n",
    "        media_list.append(media_data)\n",
    "\n",
    "    media = json.dumps(media_list)\n",
    "\n",
    "    params = {\n",
    "            'chat_id': channel_id, \n",
    "            'media': media\n",
    "            }\n",
    "\n",
    "    r = requests.post(url, params= params, files= files)"
   ]
  },
  {
   "cell_type": "code",
   "execution_count": 7,
   "metadata": {},
   "outputs": [],
   "source": [
    "telegram_message_send('module test', TOKEN)\n",
    "telegram_photo_send('images/1INCHUSDT.png', TOKEN)\n",
    "telegram_send_media_group('images', TOKEN)\n",
    "telegram_message_send('module test complete', TOKEN)"
   ]
  }
 ],
 "metadata": {
  "kernelspec": {
   "display_name": "Python 3.10.5 64-bit",
   "language": "python",
   "name": "python3"
  },
  "language_info": {
   "codemirror_mode": {
    "name": "ipython",
    "version": 3
   },
   "file_extension": ".py",
   "mimetype": "text/x-python",
   "name": "python",
   "nbconvert_exporter": "python",
   "pygments_lexer": "ipython3",
   "version": "3.10.5"
  },
  "orig_nbformat": 4,
  "vscode": {
   "interpreter": {
    "hash": "23a869f485f770016e34d0b646821068146fc1223f42d88213feb34af8b00711"
   }
  }
 },
 "nbformat": 4,
 "nbformat_minor": 2
}

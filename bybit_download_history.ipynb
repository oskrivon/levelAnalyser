{
 "cells": [
  {
   "cell_type": "code",
   "execution_count": 14,
   "metadata": {},
   "outputs": [],
   "source": [
    "import pandas as pd\n",
    "import gzip\n",
    "import datetime\n",
    "from pybit import inverse_perpetual\n",
    "import json\n",
    "from urllib.error import HTTPError\n",
    "import matplotlib.pyplot as plt"
   ]
  },
  {
   "cell_type": "code",
   "execution_count": 3,
   "metadata": {},
   "outputs": [
    {
     "name": "stdout",
     "output_type": "stream",
     "text": [
      "2022 7 24\n"
     ]
    }
   ],
   "source": [
    "# get the now data\n",
    "\n",
    "now = datetime.datetime.now()\n",
    "print(now.year, now.month, now.day)"
   ]
  },
  {
   "cell_type": "code",
   "execution_count": 16,
   "metadata": {},
   "outputs": [],
   "source": [
    "# get the quotations from bybit\n",
    "\n",
    "session_unauth = inverse_perpetual.HTTP(\n",
    "    endpoint=\"https://api-testnet.bybit.com\"\n",
    ")\n",
    "data = session_unauth.query_symbol()\n",
    "\n",
    "quotation_list = []\n",
    "\n",
    "for i in data['result']:\n",
    "    quotation_list.append(i['alias'])\n",
    "\n",
    "quotation_list.sort()"
   ]
  },
  {
   "cell_type": "code",
   "execution_count": null,
   "metadata": {},
   "outputs": [],
   "source": [
    "# create the urls list\n",
    "\n",
    "url_list = []\n",
    "\n",
    "for i in quotation_list:\n",
    "    urls = []\n",
    "    for j in range(3, 0, -1):\n",
    "        url = ('https://public.bybit.com/trading/' + i + '/' + i + str(now.year) + '-0' + \n",
    "           str(now.month) + '-' + str(now.day - j) + '.csv.gz'\n",
    "           )\n",
    "        urls.append(url)\n",
    "    url_list.append(urls)"
   ]
  },
  {
   "cell_type": "code",
   "execution_count": 26,
   "metadata": {},
   "outputs": [],
   "source": [
    "for i in url_list:\n",
    "    df = []\n",
    "    for j in i:\n",
    "        try:\n",
    "            df_ = pd.read_csv(j)\n",
    "        except HTTPError:\n",
    "            continue\n",
    "\n",
    "        df.append(df_)\n",
    "\n",
    "    try:\n",
    "        df_total = pd.concat(df)\n",
    "        df_total.reset_index(drop=True, inplace=True)\n",
    "\n",
    "        s = i[0].split('/')\n",
    "        file_name = s[4]\n",
    "\n",
    "        df_total.to_csv('market_history/' + file_name + '.csv')\n",
    "    except ValueError:\n",
    "            continue"
   ]
  },
  {
   "cell_type": "code",
   "execution_count": 18,
   "metadata": {},
   "outputs": [
    {
     "name": "stdout",
     "output_type": "stream",
     "text": [
      "10000NFTUSDT.csv\n"
     ]
    }
   ],
   "source": [
    "import os\n",
    "dirname = 'market_history'\n",
    "files = os.listdir(dirname)\n",
    "\n",
    "\n",
    "print(files[0])"
   ]
  }
 ],
 "metadata": {
  "kernelspec": {
   "display_name": "Python 3.10.5 64-bit",
   "language": "python",
   "name": "python3"
  },
  "language_info": {
   "codemirror_mode": {
    "name": "ipython",
    "version": 3
   },
   "file_extension": ".py",
   "mimetype": "text/x-python",
   "name": "python",
   "nbconvert_exporter": "python",
   "pygments_lexer": "ipython3",
   "version": "3.10.5"
  },
  "orig_nbformat": 4,
  "vscode": {
   "interpreter": {
    "hash": "23a869f485f770016e34d0b646821068146fc1223f42d88213feb34af8b00711"
   }
  }
 },
 "nbformat": 4,
 "nbformat_minor": 2
}

{
 "cells": [
  {
   "cell_type": "code",
   "execution_count": 17,
   "metadata": {},
   "outputs": [],
   "source": [
    "import datetime\n",
    "import pandas as pd\n",
    "from pybit import inverse_perpetual\n",
    "from pybit import spot\n",
    "from urllib.error import HTTPError\n",
    "from pprint import pprint\n",
    "\n",
    "import level_detector as ld"
   ]
  },
  {
   "cell_type": "code",
   "execution_count": 12,
   "metadata": {},
   "outputs": [
    {
     "name": "stdout",
     "output_type": "stream",
     "text": [
      "{'ext_code': None,\n",
      " 'ext_info': None,\n",
      " 'result': {'price': '23838.66', 'symbol': 'BTCUSDT'},\n",
      " 'ret_code': 0,\n",
      " 'ret_msg': None}\n",
      "23838.1\n"
     ]
    }
   ],
   "source": [
    "session_unauth = spot.HTTP(\n",
    "    endpoint=\"https://api.bybit.com\"\n",
    ")\n",
    "pprint(session_unauth.last_traded_price(\n",
    "    symbol=\"ETHUSDT\"\n",
    "))\n",
    "\n",
    "data = session_unauth.last_traded_price(symbol=\"BTCUSDT\")\n",
    "\n",
    "print(data['result']['price'])"
   ]
  },
  {
   "cell_type": "code",
   "execution_count": null,
   "metadata": {},
   "outputs": [],
   "source": []
  },
  {
   "cell_type": "code",
   "execution_count": 20,
   "metadata": {},
   "outputs": [
    {
     "name": "stdout",
     "output_type": "stream",
     "text": [
      "from \"df_common\", for  ETHUSDT :  \"['id', 'symbol', 'period', 'interval', 'turnover', 'open_time'] not found in axis\"\n",
      "from \"df_common\", func \"data_update\" - break\n",
      "None\n"
     ]
    },
    {
     "ename": "NameError",
     "evalue": "name 'res' is not defined",
     "output_type": "error",
     "traceback": [
      "\u001b[1;31m---------------------------------------------------------------------------\u001b[0m",
      "\u001b[1;31mNameError\u001b[0m                                 Traceback (most recent call last)",
      "\u001b[1;32mc:\\Users\\daria\\OneDrive\\Рабочий стол\\py_stocks\\levelAnalyser\\price_ticker.ipynb Ячейка 4\u001b[0m in \u001b[0;36m<cell line: 1>\u001b[1;34m()\u001b[0m\n\u001b[0;32m      <a href='vscode-notebook-cell:/c%3A/Users/daria/OneDrive/%D0%A0%D0%B0%D0%B1%D0%BE%D1%87%D0%B8%D0%B9%20%D1%81%D1%82%D0%BE%D0%BB/py_stocks/levelAnalyser/price_ticker.ipynb#W3sZmlsZQ%3D%3D?line=1'>2</a>\u001b[0m \u001b[39mprint\u001b[39m(ld\u001b[39m.\u001b[39mimprovise_algorithm(\u001b[39m'\u001b[39m\u001b[39mETHUSDT\u001b[39m\u001b[39m'\u001b[39m, \u001b[39m0.1\u001b[39m, \u001b[39mFalse\u001b[39;00m))\n\u001b[0;32m      <a href='vscode-notebook-cell:/c%3A/Users/daria/OneDrive/%D0%A0%D0%B0%D0%B1%D0%BE%D1%87%D0%B8%D0%B9%20%D1%81%D1%82%D0%BE%D0%BB/py_stocks/levelAnalyser/price_ticker.ipynb#W3sZmlsZQ%3D%3D?line=2'>3</a>\u001b[0m data \u001b[39m=\u001b[39m session_unauth\u001b[39m.\u001b[39mlast_traded_price(symbol\u001b[39m=\u001b[39m\u001b[39m\"\u001b[39m\u001b[39mETHUSDT\u001b[39m\u001b[39m\"\u001b[39m)\n\u001b[1;32m----> <a href='vscode-notebook-cell:/c%3A/Users/daria/OneDrive/%D0%A0%D0%B0%D0%B1%D0%BE%D1%87%D0%B8%D0%B9%20%D1%81%D1%82%D0%BE%D0%BB/py_stocks/levelAnalyser/price_ticker.ipynb#W3sZmlsZQ%3D%3D?line=4'>5</a>\u001b[0m \u001b[39mprint\u001b[39m(res, \u001b[39m'\u001b[39m\u001b[39m||||\u001b[39m\u001b[39m'\u001b[39m, supp)\n\u001b[0;32m      <a href='vscode-notebook-cell:/c%3A/Users/daria/OneDrive/%D0%A0%D0%B0%D0%B1%D0%BE%D1%87%D0%B8%D0%B9%20%D1%81%D1%82%D0%BE%D0%BB/py_stocks/levelAnalyser/price_ticker.ipynb#W3sZmlsZQ%3D%3D?line=5'>6</a>\u001b[0m \u001b[39mprint\u001b[39m(data[\u001b[39m'\u001b[39m\u001b[39mresult\u001b[39m\u001b[39m'\u001b[39m][\u001b[39m'\u001b[39m\u001b[39mprice\u001b[39m\u001b[39m'\u001b[39m])\n",
      "\u001b[1;31mNameError\u001b[0m: name 'res' is not defined"
     ]
    }
   ],
   "source": [
    "while True:\n",
    "    print(ld.improvise_algorithm('ETHUSDT', 0.1, False))\n",
    "    data = session_unauth.last_traded_price(symbol=\"ETHUSDT\")\n",
    "    \n",
    "    print(res, '||||', supp)\n",
    "    print(data['result']['price'])"
   ]
  }
 ],
 "metadata": {
  "kernelspec": {
   "display_name": "Python 3.10.5 64-bit",
   "language": "python",
   "name": "python3"
  },
  "language_info": {
   "codemirror_mode": {
    "name": "ipython",
    "version": 3
   },
   "file_extension": ".py",
   "mimetype": "text/x-python",
   "name": "python",
   "nbconvert_exporter": "python",
   "pygments_lexer": "ipython3",
   "version": "3.10.5"
  },
  "orig_nbformat": 4,
  "vscode": {
   "interpreter": {
    "hash": "23a869f485f770016e34d0b646821068146fc1223f42d88213feb34af8b00711"
   }
  }
 },
 "nbformat": 4,
 "nbformat_minor": 2
}
